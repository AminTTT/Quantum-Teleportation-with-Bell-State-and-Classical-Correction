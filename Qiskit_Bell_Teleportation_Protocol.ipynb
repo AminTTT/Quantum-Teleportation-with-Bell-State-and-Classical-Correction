{
  "nbformat": 4,
  "nbformat_minor": 0,
  "metadata": {
    "colab": {
      "provenance": [],
      "gpuType": "T4"
    },
    "kernelspec": {
      "name": "python3",
      "display_name": "Python 3"
    },
    "language_info": {
      "name": "python"
    },
    "accelerator": "GPU"
  },
  "cells": [
    {
      "cell_type": "code",
      "execution_count": 10,
      "metadata": {
        "id": "p-BkLjBwXbm0"
      },
      "outputs": [],
      "source": [
        "# پاک‌سازی نسخه‌های قبلی بدون نمایش خروجی\n",
        "!pip uninstall -y qiskit qiskit-aer qiskit-terra qiskit-ibmq-provider qiskit-visualization > /dev/null 2>&1\n",
        "\n",
        "# نصب نسخه پایدار بدون نمایش خروجی\n",
        "!pip install 'qiskit==0.43.3' 'qiskit-aer==0.12.2' 'qiskit-ibmq-provider==0.20.2' > /dev/null 2>&1\n"
      ]
    },
    {
      "cell_type": "code",
      "source": [
        "from qiskit import QuantumCircuit, Aer, execute\n",
        "from qiskit.visualization import plot_histogram\n",
        "import matplotlib.pyplot as plt\n"
      ],
      "metadata": {
        "id": "Q4egPPDcXoqH"
      },
      "execution_count": 9,
      "outputs": []
    },
    {
      "cell_type": "code",
      "source": [
        "qc = QuantumCircuit(3, 2)  # 3 کیوبیت، 2 بیت کلاسیک\n"
      ],
      "metadata": {
        "id": "O2CRkWc0X5u4"
      },
      "execution_count": 10,
      "outputs": []
    },
    {
      "cell_type": "code",
      "source": [
        "qc.h(1)         # ایجاد ابرپوشانی روی کیوبیت 1\n",
        "qc.cx(1, 2)     # ایجاد درهم‌تنیدگی بین کیوبیت 1 و 2 (Bell pair)\n"
      ],
      "metadata": {
        "colab": {
          "base_uri": "https://localhost:8080/"
        },
        "id": "tBhGnbjcYH1v",
        "outputId": "549ac30c-238b-47a2-f64e-6f247e7890aa"
      },
      "execution_count": 11,
      "outputs": [
        {
          "output_type": "execute_result",
          "data": {
            "text/plain": [
              "<qiskit.circuit.instructionset.InstructionSet at 0x79484070a350>"
            ]
          },
          "metadata": {},
          "execution_count": 11
        }
      ]
    },
    {
      "cell_type": "code",
      "source": [
        "qc.h(0)         # اعمال گیت Hadamard روی کیوبیت 0 (حالت نامعلوم برای تلپورت)\n"
      ],
      "metadata": {
        "colab": {
          "base_uri": "https://localhost:8080/"
        },
        "id": "y9ROFpALYYM8",
        "outputId": "53965d08-701b-4256-d72e-bdd29d869c5c"
      },
      "execution_count": 12,
      "outputs": [
        {
          "output_type": "execute_result",
          "data": {
            "text/plain": [
              "<qiskit.circuit.instructionset.InstructionSet at 0x79484070b2e0>"
            ]
          },
          "metadata": {},
          "execution_count": 12
        }
      ]
    },
    {
      "cell_type": "code",
      "source": [
        "qc.cx(0, 1)     # entangle کیوبیت 0 با کیوبیت 1\n",
        "qc.h(0)         # آماده‌سازی برای اندازه‌گیری در پایه Bell\n",
        "qc.measure([0, 1], [0, 1])   # اندازه‌گیری کیوبیت 0 و 1\n"
      ],
      "metadata": {
        "colab": {
          "base_uri": "https://localhost:8080/"
        },
        "id": "cuazZWTHYieV",
        "outputId": "630ca255-ffd3-46c1-8733-6715be70ef34"
      },
      "execution_count": 13,
      "outputs": [
        {
          "output_type": "execute_result",
          "data": {
            "text/plain": [
              "<qiskit.circuit.instructionset.InstructionSet at 0x794830e05ae0>"
            ]
          },
          "metadata": {},
          "execution_count": 13
        }
      ]
    },
    {
      "cell_type": "code",
      "source": [
        "qc.cx(1, 2)\n",
        "qc.cz(0, 2)\n"
      ],
      "metadata": {
        "colab": {
          "base_uri": "https://localhost:8080/"
        },
        "id": "R6Hl_skQYsaq",
        "outputId": "337569be-faf7-49af-84e0-012365a95189"
      },
      "execution_count": 14,
      "outputs": [
        {
          "output_type": "execute_result",
          "data": {
            "text/plain": [
              "<qiskit.circuit.instructionset.InstructionSet at 0x794830f9b160>"
            ]
          },
          "metadata": {},
          "execution_count": 14
        }
      ]
    },
    {
      "cell_type": "code",
      "source": [
        "simulator = Aer.get_backend('qasm_simulator')\n",
        "job = execute(qc, simulator, shots=1024)\n",
        "result = job.result()\n",
        "counts = result.get_counts()\n",
        "\n"
      ],
      "metadata": {
        "id": "fceZ4kjPY_qG"
      },
      "execution_count": 15,
      "outputs": []
    },
    {
      "cell_type": "code",
      "source": [
        "from qiskit.visualization import plot_histogram\n",
        "from IPython.display import display\n",
        "import matplotlib.pyplot as plt\n",
        "\n",
        "hist = plot_histogram(counts)\n",
        "display(hist)\n",
        "plt.show()\n"
      ],
      "metadata": {
        "colab": {
          "base_uri": "https://localhost:8080/",
          "height": 461
        },
        "id": "vMCAnESJZEfq",
        "outputId": "0ff609b8-3e37-4072-e587-cefd0c67c6cf"
      },
      "execution_count": 16,
      "outputs": [
        {
          "output_type": "display_data",
          "data": {
            "text/plain": [
              "<Figure size 700x500 with 1 Axes>"
            ],
            "image/png": "[encoded data removed]"
          },
          "metadata": {}
        }
      ]
    },
    {
      "cell_type": "code",
      "source": [],
      "metadata": {
        "id": "YdJGpzc9Z2Sx"
      },
      "execution_count": null,
      "outputs": []
    }
  ]
}